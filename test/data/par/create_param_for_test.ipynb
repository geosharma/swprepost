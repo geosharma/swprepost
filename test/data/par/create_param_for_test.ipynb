{
 "cells": [
  {
   "cell_type": "markdown",
   "id": "993abdf0-848f-4d60-8716-0cf48368e7e3",
   "metadata": {},
   "source": [
    "# Create `.param` Files for Test Case\n",
    "\n",
    "> Joseph P. Vantassel"
   ]
  },
  {
   "cell_type": "code",
   "execution_count": 1,
   "id": "01f9ae28-509e-4bc1-83d7-f5da177ac5e2",
   "metadata": {},
   "outputs": [],
   "source": [
    "import numpy as np\n",
    "\n",
    "import swprepost"
   ]
  },
  {
   "cell_type": "markdown",
   "id": "587fd18f-06a0-4da7-8afb-484234641733",
   "metadata": {},
   "source": [
    "## Example 1"
   ]
  },
  {
   "cell_type": "code",
   "execution_count": 2,
   "id": "f7b7a6c8-578a-4e07-bc86-9d1eec0c555e",
   "metadata": {},
   "outputs": [],
   "source": [
    "for version in swprepost.meta.SUPPORTED_GEOPSY_VERSIONS:\n",
    "    wmin, wmax = 3, 60\n",
    "\n",
    "    vs = swprepost.Parameter.from_ln(wmin=wmin, wmax=wmax, nlayers=5, par_min=18, par_max=24, par_rev=True, depth_factor=2)\n",
    "    vp = swprepost.Parameter.from_parameter_and_link(par_min=18,  par_max=83, par_rev=False, existing_parameter=vs)\n",
    "    pr = swprepost.Parameter.from_ln(wmin=wmin, wmax=wmax, nlayers=1, par_min=0.18, par_max=0.24, par_rev=False, depth_factor=2)\n",
    "    rh = swprepost.Parameter.from_fx(1883)\n",
    "\n",
    "    par = swprepost.Parameterization(vp, pr, vs, rh)\n",
    "    par.to_param(f'ex1_{version.replace(\".\",\"\")}_from_swprepost', version=version)"
   ]
  },
  {
   "cell_type": "markdown",
   "id": "9c576d12-6d2e-4d30-8c8a-df4ef13f87f9",
   "metadata": {},
   "source": [
    "## Example 2"
   ]
  },
  {
   "cell_type": "code",
   "execution_count": 3,
   "id": "08b0c132-401c-4fc2-b436-43cbafeb3d85",
   "metadata": {},
   "outputs": [],
   "source": [
    "for version in swprepost.meta.SUPPORTED_GEOPSY_VERSIONS:\n",
    "    wmin, wmax = 3, 60\n",
    "\n",
    "    vs = swprepost.Parameter.from_lr(wmin=wmin, wmax=wmax, lr=3.0, par_min=18, par_max=24, par_rev=True, depth_factor=2)\n",
    "    vp = swprepost.Parameter.from_parameter_and_link(par_min=18,  par_max=83, par_rev=False, existing_parameter=vs)\n",
    "    pr = swprepost.Parameter.from_ln(wmin=wmin, wmax=wmax, nlayers=1, par_min=0.18, par_max=0.24, par_rev=False, depth_factor=2)\n",
    "    rh = swprepost.Parameter.from_fx(1883)\n",
    "\n",
    "    par = swprepost.Parameterization(vp, pr, vs, rh)\n",
    "    par.to_param(f'ex2_{version.replace(\".\",\"\")}_from_swprepost', version=version)"
   ]
  },
  {
   "cell_type": "code",
   "execution_count": null,
   "id": "00a21a1b-be35-46c9-957b-6580081193fe",
   "metadata": {},
   "outputs": [],
   "source": []
  }
 ],
 "metadata": {
  "kernelspec": {
   "display_name": "Python 3 (ipykernel)",
   "language": "python",
   "name": "python3"
  },
  "language_info": {
   "codemirror_mode": {
    "name": "ipython",
    "version": 3
   },
   "file_extension": ".py",
   "mimetype": "text/x-python",
   "name": "python",
   "nbconvert_exporter": "python",
   "pygments_lexer": "ipython3",
   "version": "3.9.10"
  }
 },
 "nbformat": 4,
 "nbformat_minor": 5
}
