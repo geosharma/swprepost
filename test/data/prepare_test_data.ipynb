{
 "cells": [
  {
   "cell_type": "markdown",
   "metadata": {},
   "source": [
    "# Prepare Test Data\n",
    "\n",
    "> Joseph P. Vantassel, The University of Texas at Austin\n",
    "\n",
    "Prepare test data for the `swprepost` package. Prior data included more-or-less random examples.\n",
    "The new test data will follow the inversion of the first example publsihed as part of the `SWinvert` workflow (Vantassel and Cox, 2021)."
   ]
  },
  {
   "cell_type": "code",
   "execution_count": 1,
   "metadata": {},
   "outputs": [],
   "source": [
    "import matplotlib.pyplot as plt\n",
    "\n",
    "import swprepost"
   ]
  },
  {
   "cell_type": "markdown",
   "metadata": {},
   "source": [
    "## Load target data"
   ]
  },
  {
   "cell_type": "code",
   "execution_count": 2,
   "metadata": {},
   "outputs": [
    {
     "data": {
      "image/png": "[encoded data removed]",
      "text/plain": [
       "<Figure size 450x450 with 1 Axes>"
      ]
     },
     "metadata": {
      "needs_background": "light"
     },
     "output_type": "display_data"
    }
   ],
   "source": [
    "fname = \"swinvert_tar1.csv\"\n",
    "\n",
    "with open(fname, \"r\") as f:\n",
    "    lines = f.readlines()\n",
    "    \n",
    "fs, vs, ss = [], [], []\n",
    "for line in lines:\n",
    "    if line.startswith(\"#\"):\n",
    "        continue\n",
    "    f, v, s = line.split(\",\")\n",
    "    fs.append(float(f))\n",
    "    vs.append(float(v))\n",
    "    ss.append(float(s))\n",
    "\n",
    "fig, ax = plt.subplots(figsize=(3,3), dpi=150)\n",
    "ax.errorbar(fs, vs, ss, color=\"black\", linestyle=\"\")\n",
    "ax.set_xscale(\"log\")\n",
    "ax.set_xlabel(\"Frequency (Hz)\")\n",
    "ax.set_ylabel(\"Phase Velocity (m/s)\")\n",
    "plt.show()"
   ]
  },
  {
   "cell_type": "markdown",
   "metadata": {},
   "source": [
    "## Create `.target`"
   ]
  },
  {
   "cell_type": "code",
   "execution_count": 3,
   "metadata": {},
   "outputs": [
    {
     "name": "stdout",
     "output_type": "stream",
     "text": [
      "SUPPORTED_GEOSPY_VERSIONS: ['2.10.1', '3.4.2']\n"
     ]
    }
   ],
   "source": [
    "versions = swprepost.meta.SUPPORTED_GEOPSY_VERSIONS\n",
    "print(f\"SUPPORTED_GEOSPY_VERSIONS: {versions}\")\n",
    "\n",
    "for version in versions:\n",
    "    target = swprepost.ModalTarget(fs, vs, ss, description=((\"rayleigh\",0),))\n",
    "    target_set = swprepost.TargetSet([target])\n",
    "    target_set.to_target(f\"from_tar1_{version}_swprepost\", version=version)"
   ]
  },
  {
   "cell_type": "markdown",
   "metadata": {},
   "source": [
    "## Create `.param`"
   ]
  },
  {
   "cell_type": "code",
   "execution_count": null,
   "metadata": {},
   "outputs": [],
   "source": [
    "    ln = 3\n",
    "    vs = swprepost.Parameter.from_ln(min(target.wavelength), max(target.wavelength), 3, 100, 600, False)\n",
    "    vp = swprepost.Parameter.from_parameter_and_link(200, 1500, False, vs, ptype=\"vs\")\n",
    "    pr = swprepost.Parameter.from_ln(min(target.wavelength), max(target.wavelength), 1, 0.2, 0.4, False)\n",
    "    rh = swprepost.Parameter.from_fx(2000)\n",
    "    par = swprepost.Parameterization(vp, pr, vs, rh)\n",
    "    par.to_param(\"ln3\", version=version)"
   ]
  },
  {
   "cell_type": "code",
   "execution_count": null,
   "metadata": {},
   "outputs": [],
   "source": []
  }
 ],
 "metadata": {
  "kernelspec": {
   "display_name": "Python 3 (ipykernel)",
   "language": "python",
   "name": "python3"
  },
  "language_info": {
   "codemirror_mode": {
    "name": "ipython",
    "version": 3
   },
   "file_extension": ".py",
   "mimetype": "text/x-python",
   "name": "python",
   "nbconvert_exporter": "python",
   "pygments_lexer": "ipython3",
   "version": "3.9.10"
  }
 },
 "nbformat": 4,
 "nbformat_minor": 4
}
