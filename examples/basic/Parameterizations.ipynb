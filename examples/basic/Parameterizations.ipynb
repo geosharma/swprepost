{
 "cells": [
  {
   "cell_type": "markdown",
   "metadata": {},
   "source": [
    "# Parameterizations\n",
    "\n",
    "> Joseph P. Vantassel, The University of Texas at Austin\n",
    "\n",
    "This file is intended as a gallery for the types of `Parameterizations` that can be created with `swprepost`.\n",
    "\n",
    "## Table of Contents\n",
    "\n",
    "- [Parameter](#Parameter)\n",
    "    - [Parameter()](#Parameter())\n",
    "    - [from_fx()](#from_fx())\n",
    "    - [from_ftl()](#from_ftl())\n",
    "    - [from_ln()](#from_ln())\n",
    "    - [from_lr()](#from_lr())\n",
    "- [Parameterization](#Parameterization)\n",
    "    - [Parameterization()](#Parameterization())\n",
    "    - [from_min_max()](#from_min_max())\n",
    "    - [to_param()](#to_param())\n",
    "    - [from_param()](#from_param())"
   ]
  },
  {
   "cell_type": "code",
   "execution_count": 1,
   "metadata": {},
   "outputs": [],
   "source": [
    "import swprepost\n",
    "import numpy as np\n",
    "import matplotlib.pyplot as plt"
   ]
  },
  {
   "cell_type": "markdown",
   "metadata": {},
   "source": [
    "## Parameter\n",
    "\n",
    "A `Parameter` is an object which defines a specific component of the layered earth model (e.g., Compression-wave velocity, Shear-wave Velocty, Poisson's Ratio (this is technically a condition and not a parameter, however from `swprepost`'s perspective their is essentially no difference), and Mass Density). A `Parameter` has six basic parts defined for each layer, they are\n",
    "\n",
    "1. Minimum depth/thickness,\n",
    "2. Maximum depth/thickness,\n",
    "3. Minimum value,\n",
    "4. Maximum value, and\n",
    "5. Existance of the reversal condition.\n",
    "\n",
    "A `Parameter` must to be defined for `vp`, `vs`, `pr`, and `rh` to define a [Parameterization](#Parameterization), discussed below."
   ]
  },
  {
   "cell_type": "markdown",
   "metadata": {},
   "source": [
    "### Parameter()\n",
    "\n",
    "Create a __Custom__ parameter.\n",
    "\n",
    "[Back to Top](#Parameterizations)"
   ]
  },
  {
   "cell_type": "code",
   "execution_count": 2,
   "metadata": {},
   "outputs": [
    {
     "name": "stdout",
     "output_type": "stream",
     "text": [
      "Parameter(lay_min=[1, 1, 1], lay_max=[10, 10, 10], par_min=[100, 100, 100], par_max=[300, 300, 300], par_rev=[False, False, False], lay_type=CT)\n"
     ]
    }
   ],
   "source": [
    "lay_type = \"thickness\"  # Define each layer with thicknes rather than depth\n",
    "lay_min = [1]*3         # Define 3 layers, each at least 1m thick.\n",
    "lay_max = [10]*3        # Each layer is at most 10m thick.\n",
    "par_min = [100]*3       # Minimum parameter for each layer is 100.\n",
    "par_max = [300]*3       # Maximum parameter for each layer is 300.\n",
    "par_rev = [False]*3     # No reversal is permitted. So the value of each layer must be greater than the previous. \n",
    "\n",
    "par = swprepost.Parameter(lay_min=lay_min, lay_max=lay_max, par_min=par_min, par_max=par_max, par_rev=par_rev, lay_type=lay_type)\n",
    "\n",
    "print(par)              # View text representation."
   ]
  },
  {
   "cell_type": "markdown",
   "metadata": {},
   "source": [
    "### from_fx()\n",
    "\n",
    "Create a __Fixed__ style parameter.\n",
    "\n",
    "[Back to Top](#Parameterizations)"
   ]
  },
  {
   "cell_type": "code",
   "execution_count": 3,
   "metadata": {},
   "outputs": [
    {
     "name": "stdout",
     "output_type": "stream",
     "text": [
      "Parameter(lay_min=[1824], lay_max=[1883], par_min=[2000.0], par_max=[2000.0], par_rev=[False], lay_type=FX)\n"
     ]
    }
   ],
   "source": [
    "value = 2000           # Set parameter to 2000. Note it cannot change.\n",
    "\n",
    "par = swprepost.Parameter.from_fx(value=value)\n",
    "\n",
    "print(par)"
   ]
  },
  {
   "cell_type": "markdown",
   "metadata": {},
   "source": [
    "### from_ftl()\n",
    "\n",
    "Create a __Fixed-Thickness Layer__ style parameter.\n",
    "\n",
    "[Back to Top](#Parameterizations)"
   ]
  },
  {
   "cell_type": "code",
   "execution_count": 4,
   "metadata": {},
   "outputs": [
    {
     "name": "stdout",
     "output_type": "stream",
     "text": [
      "Parameter(lay_min=[1, 1, 1, 1, 1, 1, 1, 1, 1, 1], lay_max=[1, 1, 1, 1, 1, 1, 1, 1, 1, 1], par_min=[100, 100, 100, 100, 100, 100, 100, 100, 100, 100], par_max=[300, 300, 300, 300, 300, 300, 300, 300, 300, 300], par_rev=[True, True, True, True, True, True, True, True, True, True], lay_type=FTL)\n"
     ]
    }
   ],
   "source": [
    "nlayers = 10           # 10-layered profile.\n",
    "thickness = 1          # Each layer is 1m thick, and cannot change.\n",
    "par_min = 100          # Minimum value is 100.\n",
    "par_max = 300          # Maximum value is 300.\n",
    "par_rev = True         # Value can increase or decrease with depth.\n",
    "\n",
    "par = swprepost.Parameter.from_ftl(nlayers=10, thickness=1, par_min=100, par_max=300, par_rev=True)\n",
    "\n",
    "print(par)"
   ]
  },
  {
   "cell_type": "markdown",
   "metadata": {},
   "source": [
    "### from_ln()\n",
    "\n",
    "Create a __Layering by Number__ style parameter. \n",
    "\n",
    "[Back to Top](#Parameterizations)"
   ]
  },
  {
   "cell_type": "code",
   "execution_count": 5,
   "metadata": {},
   "outputs": [
    {
     "name": "stdout",
     "output_type": "stream",
     "text": [
      "Parameter(lay_min=[0.6666666666666666, 0.6666666666666666, 0.6666666666666666], lay_max=[50.0, 50.0, 50.0], par_min=[120, 120, 120], par_max=[450, 450, 450], par_rev=[True, True, True], lay_type=LN)\n"
     ]
    },
    {
     "data": {
      "image/png": "[encoded data removed]",
      "text/plain": [
       "<Figure size 252x360 with 1 Axes>"
      ]
     },
     "metadata": {
      "needs_background": "light"
     },
     "output_type": "display_data"
    }
   ],
   "source": [
    "wmin = 2          # Minimum measured wavelength (used for minimum thickness calculation).\n",
    "wmax = 100        # Maximum measured wavelength (used for maximum thickness calculation).\n",
    "nlayers = 3       # Use 3 layers.\n",
    "par_min = 120     # Each layer has a minimum value of 120.\n",
    "par_max = 450     # Each layer has a maximum value of 450.\n",
    "par_rev = True    # Each layer may increase or decrease relative to the layer above it.\n",
    "depth_factor = 2  # Divide wmax by 2 to get the maximum allowable bottom depth of any parameter.\n",
    "\n",
    "par = swprepost.Parameter.from_ln(wmin=wmin, wmax=wmax, nlayers=nlayers, par_min=par_min, par_max=par_max, par_rev=par_rev)\n",
    "\n",
    "print(par)\n",
    "\n",
    "par.plot()\n",
    "plt.show()"
   ]
  },
  {
   "cell_type": "markdown",
   "metadata": {},
   "source": [
    "### from_lr()\n",
    "\n",
    "Create a __Layering Ratio__ style parameter.\n",
    "\n",
    "[Back to Top](#Parameterizations)"
   ]
  },
  {
   "cell_type": "code",
   "execution_count": 6,
   "metadata": {},
   "outputs": [
    {
     "name": "stdout",
     "output_type": "stream",
     "text": [
      "Parameter(lay_min=[0.6666666666666666, 1.0, 4.0, 13.0, 50.0], lay_max=[1.0, 4.0, 13.0, 50.0, 51.0], par_min=[120, 120, 120, 120, 120], par_max=[450, 450, 450, 450, 450], par_rev=[True, True, True, True, True], lay_type=LR)\n"
     ]
    },
    {
     "data": {
      "image/png": "[encoded data removed]",
      "text/plain": [
       "<Figure size 252x360 with 1 Axes>"
      ]
     },
     "metadata": {
      "needs_background": "light"
     },
     "output_type": "display_data"
    }
   ],
   "source": [
    "wmin = 2          # Minimum measured wavelength (used for minimum thickness calculation).\n",
    "wmax = 100        # Maximum measured wavelength (used for maximum thickness calculation).\n",
    "lr = 3.0          # Layering Ratio of 3.0.\n",
    "par_min = 120     # Each layer has a minimum value of 120.\n",
    "par_max = 450     # Each layer has a maximum value of 450.\n",
    "par_rev = True    # Each layer may increase or decrease relative to the layer above it.\n",
    "depth_factor = 2  # Divide wmax by 2 to get the maximum allowable bottom depth of any parameter.\n",
    "\n",
    "par = swprepost.Parameter.from_lr(wmin=wmin, wmax=wmax, lr=lr, par_min=par_min, par_max=par_max, par_rev=par_rev)\n",
    "\n",
    "print(par)\n",
    "\n",
    "par.plot()\n",
    "plt.show()"
   ]
  },
  {
   "cell_type": "markdown",
   "metadata": {},
   "source": [
    "## Parameterization\n",
    "\n",
    "A `Parameterization` is a collection of four [Parameter](#Parameter) objects. The four [Parameter](#Parameter) objects define the four components of the parameterization which are `vp`, `vs`, `pr`, and `rh`."
   ]
  },
  {
   "cell_type": "markdown",
   "metadata": {},
   "source": [
    "### Parameterization()\n",
    "\n",
    "Create a __Custom__ parameterization.\n",
    "\n",
    "[Back to Top](#Parameterizations)"
   ]
  },
  {
   "cell_type": "code",
   "execution_count": 7,
   "metadata": {},
   "outputs": [
    {
     "name": "stdout",
     "output_type": "stream",
     "text": [
      "Parameterization(\n",
      "vp=Parameter(lay_min=[0.6666666666666666, 0.6666666666666666, 0.6666666666666666], lay_max=[10.0, 10.0, 10.0], par_min=[200, 200, 200], par_max=[600, 600, 600], par_rev=[False, False, False], lay_type=LN),\n",
      "pr=Parameter(lay_min=[0.6666666666666666], lay_max=[10.0], par_min=[0.2], par_max=[0.5], par_rev=[False], lay_type=LN),\n",
      "vs=Parameter(lay_min=[0.6666666666666666, 1.0, 3.0, 10.0], lay_max=[1.0, 3.0, 10.0, 11.0], par_min=[100, 100, 100, 100], par_max=[350, 350, 350, 350], par_rev=[False, False, False, False], lay_type=LR),\n",
      "rh=Parameter(lay_min=[1824], lay_max=[1883], par_min=[2000.0], par_max=[2000.0], par_rev=[False], lay_type=FX))\n"
     ]
    }
   ],
   "source": [
    "wmin, wmax = 2, 20  # Define minimum and maximum wavelength\n",
    "vp = swprepost.Parameter.from_ln(wmin=wmin, wmax=wmax, nlayers=3, par_min=200, par_max=600, par_rev=False, depth_factor=2)\n",
    "pr = swprepost.Parameter.from_ln(wmin=wmin, wmax=wmax, nlayers=1, par_min=0.2, par_max=0.5, par_rev=False, depth_factor=2)\n",
    "vs = swprepost.Parameter.from_lr(wmin=wmin, wmax=wmax, lr=2.0, par_min=100, par_max=350, par_rev=False, depth_factor=2)\n",
    "rh = swprepost.Parameter.from_fx(2000)\n",
    "\n",
    "param = swprepost.Parameterization(vp=vp, pr=pr, vs=vs, rh=rh)\n",
    "\n",
    "print(param)"
   ]
  },
  {
   "cell_type": "markdown",
   "metadata": {},
   "source": [
    "### from_min_max()\n",
    "\n",
    "Create a `Parameterization` from short lists of input values.\n",
    "\n",
    "_Note: This method compromises readability for pure charachter efficiency (which is almost always a bad idea!), however some users may find it useful for quick calculations._\n",
    "\n",
    "[Back to Top](#Parameterizations)"
   ]
  },
  {
   "cell_type": "code",
   "execution_count": 8,
   "metadata": {},
   "outputs": [
    {
     "name": "stdout",
     "output_type": "stream",
     "text": [
      "This method was depreacted after v1.0.0.\n"
     ]
    }
   ],
   "source": [
    "wmin, wmax = 2, 20                   # Define minimum and maximum wavelength.\n",
    "vp = [\"LN\", 3, 200, 600, False]      # Exactly the same as previous example.\n",
    "pr = [\"LN\", 1, 0.2, 0.5, False]      # Exactly the same as previous example.\n",
    "vs = [\"LR\", 2.0, 100, 350, False]    # Exactly the same as previous example.\n",
    "rh = [\"FX\", 2000]                    # Exactly the same as previous example.\n",
    "\n",
    "param = swprepost.Parameterization.from_min_max(vp=vp, pr=pr, vs=vs, rh=rh, wv=(wmin, wmax), factor=2)\n",
    "\n",
    "print(param)"
   ]
  },
  {
   "cell_type": "markdown",
   "metadata": {},
   "source": [
    "### to_param()\n",
    "\n",
    "Write a `Parameterization` object to the `.param` format which can be imported into Dinver.\n",
    "\n",
    "[Back to Top](#Parameterizations)"
   ]
  },
  {
   "cell_type": "code",
   "execution_count": 9,
   "metadata": {},
   "outputs": [],
   "source": [
    "# Create an example parameterization\n",
    "wmin, wmax = 2, 20\n",
    "vp = swprepost.Parameter.from_ln(wmin=wmin, wmax=wmax, nlayers=3, par_min=200, par_max=600, par_rev=False, depth_factor=2)\n",
    "pr = swprepost.Parameter.from_ln(wmin=wmin, wmax=wmax, nlayers=1, par_min=0.2, par_max=0.5, par_rev=False, depth_factor=2)\n",
    "vs = swprepost.Parameter.from_lr(wmin=wmin, wmax=wmax, lr=2.0, par_min=100, par_max=350, par_rev=False, depth_factor=2)\n",
    "rh = swprepost.Parameter.from_fx(2000)\n",
    "param = swprepost.Parameterization(vp=vp, pr=pr, vs=vs, rh=rh)\n",
    "\n",
    "# Write parameterization to .param format\n",
    "param.to_param(fname_prefix=\"to_param_v2\", version=\"2.10.1\")   # Write param using v2 style\n",
    "param.to_param(fname_prefix=\"to_param_v3\", version=\"3.4.2\")   # Write param using v3 style"
   ]
  },
  {
   "cell_type": "markdown",
   "metadata": {},
   "source": [
    "### from_param()\n",
    "\n",
    "Create a `Parameterization` from an existing `.param` file.\n",
    "\n",
    "_Note: This method is experimental and may not work for all .param files._\n",
    "\n",
    "[Back to Top](#Parameterizations)"
   ]
  },
  {
   "cell_type": "code",
   "execution_count": 10,
   "metadata": {},
   "outputs": [
    {
     "name": "stdout",
     "output_type": "stream",
     "text": [
      "Does `new_param` equal `param`? Python says: True\n"
     ]
    }
   ],
   "source": [
    "new_param = swprepost.Parameterization.from_param(fname_prefix=\"to_param_v2\", version=\"2.10.1\")\n",
    "\n",
    "print(f\"Does `new_param` equal `param`? Python says: {param==new_param}\")"
   ]
  },
  {
   "cell_type": "code",
   "execution_count": null,
   "metadata": {},
   "outputs": [],
   "source": []
  }
 ],
 "metadata": {
  "kernelspec": {
   "display_name": "Python 3 (ipykernel)",
   "language": "python",
   "name": "python3"
  },
  "language_info": {
   "codemirror_mode": {
    "name": "ipython",
    "version": 3
   },
   "file_extension": ".py",
   "mimetype": "text/x-python",
   "name": "python",
   "nbconvert_exporter": "python",
   "pygments_lexer": "ipython3",
   "version": "3.9.10"
  }
 },
 "nbformat": 4,
 "nbformat_minor": 4
}
